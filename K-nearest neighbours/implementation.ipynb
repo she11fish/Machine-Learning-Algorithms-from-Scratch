{
 "cells": [
  {
   "cell_type": "markdown",
   "metadata": {},
   "source": [
    "KNN (K-nearest neighbours) can be implemented for solving a classficiation problem. \\\n",
    "Therefore, it depends on finding the closest data from k points using the Euclidean distance (could be other distance formulae)\n",
    "$$d(p, q) = \\sqrt{\\sum_{i=1}^{n}(p_{i} - q_{i})^{2}}$$\n",
    "where p and q are cartesian coordinates. \\\n",
    "Once the distances from a new point is figured out, we can find determine the class \\\n",
    "from whichever points are closest to the classes overall.\n",
    "To make sure k has no ties (not guarenteed), k has to be odd.\n",
    "Since there will be no error function, we will use an accuracy score to track how k the value chosen is."
   ]
  },
  {
   "cell_type": "code",
   "execution_count": 2,
   "metadata": {},
   "outputs": [
    {
     "name": "stdout",
     "output_type": "stream",
     "text": [
      "     sepal_length  sepal_width  petal_length  petal_width         species\n",
      "0             5.1          3.5           1.4          0.2     Iris-setosa\n",
      "1             4.9          3.0           1.4          0.2     Iris-setosa\n",
      "2             4.7          3.2           1.3          0.2     Iris-setosa\n",
      "3             4.6          3.1           1.5          0.2     Iris-setosa\n",
      "4             5.0          3.6           1.4          0.2     Iris-setosa\n",
      "..            ...          ...           ...          ...             ...\n",
      "145           6.7          3.0           5.2          2.3  Iris-virginica\n",
      "146           6.3          2.5           5.0          1.9  Iris-virginica\n",
      "147           6.5          3.0           5.2          2.0  Iris-virginica\n",
      "148           6.2          3.4           5.4          2.3  Iris-virginica\n",
      "149           5.9          3.0           5.1          1.8  Iris-virginica\n",
      "\n",
      "[150 rows x 5 columns]\n"
     ]
    }
   ],
   "source": [
    "import requests\n",
    "import pandas as pd\n",
    "import io\n",
    "\n",
    "download = requests.get(\n",
    "    \"https://raw.githubusercontent.com/jbrownlee/Datasets/master/iris.csv\"\n",
    ").content\n",
    "df = pd.read_csv(io.StringIO(download.decode(\"utf-8\")))\n",
    "dataset = df.values\n",
    "df.loc[-1] = [\n",
    "    float(column) if i != df.columns.size - 1 else column\n",
    "    for i, column in enumerate(df.columns)\n",
    "]\n",
    "df.index = df.index + 1\n",
    "df = df.sort_index()\n",
    "# all in cm\n",
    "df.columns = [\"sepal_length\", \"sepal_width\", \"petal_length\", \"petal_width\", \"species\"]\n",
    "X = df.drop(columns=\"species\").values\n",
    "y = df[\"species\"].values\n",
    "print(df)"
   ]
  },
  {
   "cell_type": "code",
   "execution_count": 77,
   "metadata": {},
   "outputs": [
    {
     "data": {
      "text/plain": [
       "(75, 4)"
      ]
     },
     "execution_count": 77,
     "metadata": {},
     "output_type": "execute_result"
    }
   ],
   "source": [
    "from sklearn.model_selection import train_test_split\n",
    "\n",
    "X_train, X_test, y_train, y_test = train_test_split(\n",
    "    X, y, test_size=0.5, random_state=42\n",
    ")\n",
    "X_test.shape"
   ]
  },
  {
   "cell_type": "code",
   "execution_count": 81,
   "metadata": {},
   "outputs": [
    {
     "name": "stdout",
     "output_type": "stream",
     "text": [
      "the average: 97.33333333333334% with k = 1\n",
      "the average: 97.33333333333334% with k = 3\n",
      "the average: 94.66666666666667% with k = 5\n",
      "the average: 94.66666666666667% with k = 7\n",
      "the average: 96.0% with k = 9\n",
      "the average: 96.0% with k = 11\n",
      "the average: 96.0% with k = 13\n",
      "the average: 97.33333333333334% with k = 15\n",
      "the average: 96.0% with k = 17\n",
      "the average: 96.0% with k = 19\n"
     ]
    }
   ],
   "source": [
    "import numpy as np\n",
    "import matplotlib.pyplot as plt\n",
    "import math\n",
    "from statistics import mode\n",
    "\n",
    "\n",
    "class KNN:\n",
    "    def __init__(self, k=3):\n",
    "        self.k = k\n",
    "\n",
    "    def euclidean_distance(self, p, q):\n",
    "        return math.sqrt(np.sum((p - q) ** 2))\n",
    "\n",
    "    def closest_arg_points_from_point(self, X: np.ndarray, point: np.ndarray):\n",
    "        n = len(X)\n",
    "        output = [self.euclidean_distance(point, X[i]) for i in range(n)]\n",
    "        return np.argsort(output)[: self.k]\n",
    "\n",
    "    def predict(self, X: np.ndarray, y: np.ndarray, point: np.ndarray):\n",
    "        output = self.closest_arg_points_from_point(X, point)\n",
    "        return mode(y[output])\n",
    "\n",
    "def average(y_hat: np.ndarray, y: np.ndarray):\n",
    "    return sum([int(y_hat[i] == y[i]) for i in range(len(y))]) / len(y) * 100\n",
    "\n",
    "model = KNN(1)\n",
    "classification_numbers = {\"Iris-setosa\": 0, \"Iris-versicolor\": 1, \"Iris-virginica\": 2}\n",
    "for k in range(1, 21, 2):\n",
    "    model.k = k\n",
    "    results = []\n",
    "    for i in range(len(X_test)):\n",
    "        y_hat = model.predict(X_train, y_train, X_test[i])\n",
    "        results.append(classification_numbers[y_hat])\n",
    "    results = np.array(results)\n",
    "\n",
    "    print(f\"the average: {average([classification_numbers[y] for y in y_test], results)}% with k = {k}\")"
   ]
  },
  {
   "cell_type": "code",
   "execution_count": 5,
   "metadata": {},
   "outputs": [
    {
     "data": {
      "image/png": "[encoded data removed]",
      "text/plain": [
       "<Figure size 640x480 with 1 Axes>"
      ]
     },
     "metadata": {},
     "output_type": "display_data"
    }
   ],
   "source": [
    "# Count the occurrences of each class\n",
    "class_counts = df[\"species\"].value_counts()\n",
    "\n",
    "# Plot the bar graph\n",
    "class_counts.plot(kind=\"bar\", color=\"skyblue\")\n",
    "\n",
    "# Add labels and title\n",
    "plt.xlabel(\"Class\")\n",
    "plt.ylabel(\"Count\")\n",
    "plt.title(\"Class Distribution\")\n",
    "\n",
    "# Show the plot\n",
    "plt.show()"
   ]
  }
 ],
 "metadata": {
  "kernelspec": {
   "display_name": "Python 3",
   "language": "python",
   "name": "python3"
  },
  "language_info": {
   "codemirror_mode": {
    "name": "ipython",
    "version": 3
   },
   "file_extension": ".py",
   "mimetype": "text/x-python",
   "name": "python",
   "nbconvert_exporter": "python",
   "pygments_lexer": "ipython3",
   "version": "3.11.4"
  }
 },
 "nbformat": 4,
 "nbformat_minor": 2
}
